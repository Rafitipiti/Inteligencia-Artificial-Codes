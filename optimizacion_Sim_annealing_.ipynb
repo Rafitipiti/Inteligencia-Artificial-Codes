{
  "nbformat": 4,
  "nbformat_minor": 0,
  "metadata": {
    "colab": {
      "name": "optimizacion Sim annealing .ipynb",
      "provenance": []
    },
    "kernelspec": {
      "name": "python3",
      "display_name": "Python 3"
    },
    "language_info": {
      "name": "python"
    }
  },
  "cells": [
    {
      "cell_type": "code",
      "metadata": {
        "id": "jImn4tPgi1dU"
      },
      "source": [
        "import random\n",
        "import math"
      ],
      "execution_count": null,
      "outputs": []
    },
    {
      "cell_type": "code",
      "metadata": {
        "colab": {
          "base_uri": "https://localhost:8080/"
        },
        "id": "YoFFDsRwilS7",
        "outputId": "7fe27ede-4a23-43d2-ef47-eafa421f189c"
      },
      "source": [
        "def decimal(x): #traduce lista a número decimal\n",
        "  num = 0\n",
        "  aux = 0\n",
        "  for i in range(len(x)-1,-1,-1):\n",
        "    if x[i] == 1:\n",
        "      num += pow(2,aux)\n",
        "    aux+=1\n",
        "  return num\n",
        "\n",
        "def funmax(num): #funcion de maximización\n",
        "  return math.tan(num/5)\n",
        "\n",
        "funmax(decimal([0,0,0,0,1])) #ejemplo\n",
        "a = [0,0,1,0,1]\n",
        "print(a)\n",
        "a[2] ^= 1\n",
        "print(a)\n",
        "print(random.randrange(0,2))"
      ],
      "execution_count": null,
      "outputs": [
        {
          "output_type": "stream",
          "text": [
            "[0, 0, 1, 0, 1]\n",
            "[0, 0, 0, 0, 1]\n",
            "1\n"
          ],
          "name": "stdout"
        }
      ]
    },
    {
      "cell_type": "code",
      "metadata": {
        "colab": {
          "base_uri": "https://localhost:8080/"
        },
        "id": "6tE9LBMsjfG5",
        "outputId": "837ae3b1-6075-4ecd-bf38-a269ba08ce59"
      },
      "source": [
        "def SimulatedAnnealing(arr,temp,enfriamiento):\n",
        "  bestenergy = funmax(decimal(arr))\n",
        "  bestarr = arr\n",
        "  cont = 0\n",
        "  while temp > 1:\n",
        "    cont = cont+1\n",
        "    \n",
        "    newarr = arr.copy() #copia de mi arreglo\n",
        "    pos1 = random.randrange(0,5) #Elijo posición random\n",
        "    newarr[pos1] ^= 1 # Si es 0, cambio a 1 y viceversa\n",
        "    \n",
        "    actual_energia = funmax(decimal(arr))\n",
        "    nueva_energia = funmax(decimal(newarr))\n",
        "\n",
        "    prob = 0 \n",
        "    \n",
        "    #función de aceptación\n",
        "    if nueva_energia > actual_energia:\n",
        "      prob = 1\n",
        "    else:\n",
        "      prob = math.exp((actual_energia-nueva_energia)/temp)\n",
        "    \n",
        "    if prob > random.randrange(0,2):\n",
        "      arr = newarr\n",
        "\n",
        "    #hallando la mejor solución\n",
        "    if actual_energia > bestenergy:\n",
        "      bestarr = newarr\n",
        "      bestenergy = funmax(decimal(bestarr))\n",
        "\n",
        "    temp *= (1 - enfriamiento)\n",
        "  return bestarr,bestenergy\n",
        "\n",
        "\n",
        "destinos = [0,0,0,0,0]\n",
        "temperatura_inicial=10000\n",
        "velocidad_enfriamiento=0.003\n",
        "SimulatedAnnealing(destinos, temperatura_inicial,velocidad_enfriamiento)\n"
      ],
      "execution_count": null,
      "outputs": [
        {
          "output_type": "execute_result",
          "data": {
            "text/plain": [
              "([1, 0, 1, 1, 1], 8.860174895648045)"
            ]
          },
          "metadata": {
            "tags": []
          },
          "execution_count": 82
        }
      ]
    }
  ]
}