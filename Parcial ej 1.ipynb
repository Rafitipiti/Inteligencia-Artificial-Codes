{
  "nbformat": 4,
  "nbformat_minor": 0,
  "metadata": {
    "colab": {
      "name": "Práctica.ipynb",
      "provenance": []
    },
    "kernelspec": {
      "name": "python3",
      "display_name": "Python 3"
    },
    "language_info": {
      "name": "python"
    }
  },
  "cells": [
    {
      "cell_type": "code",
      "metadata": {
        "id": "FEvfBlA39TFv",
        "colab": {
          "base_uri": "https://localhost:8080/"
        },
        "outputId": "0feddd40-9b08-499b-9a42-9ef75258ba12"
      },
      "source": [
        "!pip install kanren\n",
        "from kanren import *"
      ],
      "execution_count": 64,
      "outputs": [
        {
          "output_type": "stream",
          "text": [
            "Requirement already satisfied: kanren in /usr/local/lib/python3.7/dist-packages (0.2.3)\n",
            "Requirement already satisfied: multipledispatch in /usr/local/lib/python3.7/dist-packages (from kanren) (0.6.0)\n",
            "Requirement already satisfied: toolz in /usr/local/lib/python3.7/dist-packages (from kanren) (0.11.1)\n",
            "Requirement already satisfied: unification in /usr/local/lib/python3.7/dist-packages (from kanren) (0.2.2)\n",
            "Requirement already satisfied: six in /usr/local/lib/python3.7/dist-packages (from multipledispatch->kanren) (1.15.0)\n"
          ],
          "name": "stdout"
        }
      ]
    },
    {
      "cell_type": "code",
      "metadata": {
        "id": "TJSDlwBFrAKi"
      },
      "source": [
        "hombre = Relation()\n",
        "mujer = Relation()\n",
        "gusta = Relation()\n",
        "interes = Relation()"
      ],
      "execution_count": 65,
      "outputs": []
    },
    {
      "cell_type": "code",
      "metadata": {
        "id": "Sz5todbUsG3W"
      },
      "source": [
        "facts(\n",
        "  hombre, \n",
        "    (\"pepe\", \"mediano\", \"anciano\"),\n",
        "    (\"luis\",\"mediano\",\"joven\"),\n",
        ")\n",
        "facts(\n",
        "    mujer,\n",
        "      (\"sara\",\"grande\",\"joven\"),\n",
        "      (\"laura\",\"mediana\",\"madura\"),\n",
        "      )\n",
        "facts(\n",
        "    gusta,\n",
        "      (\"pepe\",\"detectives\",\"yoga\"),\n",
        "      (\"luis\",\"ciencia-ficción\",\"natación\"),\n",
        "      (\"sara\",\"aventuras\",\"tenis\"),\n",
        "      (\"laura\",\"detectives\",\"yoga\")\n",
        "      )\n",
        "facts(\n",
        "    interes,\n",
        "      (\"pepe\",\"mediana\",\"madura\"),\n",
        "      (\"luis\",\"pequeña\",\"joven\"),\n",
        "      (\"sara\",\"grande\",\"maduro\"),\n",
        "      (\"laura\",\"grande\",\"maduro\")\n",
        "      )\n",
        "\n",
        "#Para todo hombre hay al menos una mujer compatible que comparten el gusto y el interés"
      ],
      "execution_count": 66,
      "outputs": []
    },
    {
      "cell_type": "code",
      "metadata": {
        "id": "346sDP81t4Th"
      },
      "source": [
        "def match(x,z):\n",
        "  t1 = var()\n",
        "  e1 = var()\n",
        "  t2 = var()\n",
        "  e2 = var()\n",
        "  g1 = var()\n",
        "  g2 = var()\n",
        "  y = var()\n",
        "  g = var()\n",
        "  return conde((hombre(x,t1,e1),mujer(z,t2,e2),gusta(y,g1,g2),gusta(x,g1,g2),interes(x,t2,e2),interes(z,t1,e1)))"
      ],
      "execution_count": 67,
      "outputs": []
    },
    {
      "cell_type": "code",
      "metadata": {
        "colab": {
          "base_uri": "https://localhost:8080/"
        },
        "id": "0XLPKU31tjis",
        "outputId": "7040026b-4bf9-4778-c839-f69872b5be06"
      },
      "source": [
        "H1,H2,H3 = vars(3)\n",
        "#Vx, Ey\n",
        "#hombre(x,t1,e1) y mujer(z,t2,e2) y gusta(y,g1,g2) y gusta(x,g1,g2) y interes(x,t2,e2) y interes(z,t1,e1) -> match(x,z)\n",
        "print(\"Regla de inferencia para todo hombre hay al menos una mujer compatible que comparten el gusto y el interés:\",\n",
        "      [(x,y) for x,y in run(0,(H1,H2),(match(H1,H2))) if x != y])"
      ],
      "execution_count": 68,
      "outputs": [
        {
          "output_type": "stream",
          "text": [
            "Regla de inferencia para todo hombre hay al menos una mujer compatible que comparten el gusto y el interés: []\n"
          ],
          "name": "stdout"
        }
      ]
    },
    {
      "cell_type": "markdown",
      "metadata": {
        "id": "hW9-SXmdzNpc"
      },
      "source": [
        "Comentarios: En este ejemplo no hay ninguna pareja en la que el hombre y la mujer tengan los mismos gustos y los intereses del hombre sean satisfechos por la mujer y viceversa. Sin embargo, si cambiamos la regla a que solo al hombre deba gustarle la mujer. Obtendríamos un resultado como se muestra abajo:"
      ]
    },
    {
      "cell_type": "code",
      "metadata": {
        "id": "uksRfgKkzbCg"
      },
      "source": [
        "def match2(x,z):\n",
        "  t1 = var()\n",
        "  e1 = var()\n",
        "  t2 = var()\n",
        "  e2 = var()\n",
        "  g1 = var()\n",
        "  g2 = var()\n",
        "  y = var()\n",
        "  g = var()\n",
        "  return conde((hombre(x,t1,e1),mujer(z,t2,e2),gusta(y,g1,g2),gusta(x,g1,g2),interes(x,t2,e2)))"
      ],
      "execution_count": 69,
      "outputs": []
    },
    {
      "cell_type": "code",
      "metadata": {
        "colab": {
          "base_uri": "https://localhost:8080/"
        },
        "id": "-ih5MaEwzeVh",
        "outputId": "17f68d90-ac12-4305-c120-c34808f639b1"
      },
      "source": [
        "H1,H2,H3 = vars(3)\n",
        "#Vx, Ey\n",
        "#hombre(x,t1,e1) y mujer(z,t2,e2) y gusta(y,g1,g2) y gusta(x,g1,g2) y interes(x,t2,e2) -> match2(x,z)\n",
        "print(\"Regla de inferencia para todo hombre hay al menos una mujer compatible que comparten el gusto y el interés:\",\n",
        "      [(x,y) for x,y in run(0,(H1,H2),(match2(H1,H2))) if x != y])"
      ],
      "execution_count": 70,
      "outputs": [
        {
          "output_type": "stream",
          "text": [
            "Regla de inferencia para todo hombre hay al menos una mujer compatible que comparten el gusto y el interés: [('pepe', 'laura')]\n"
          ],
          "name": "stdout"
        }
      ]
    }
  ]
}