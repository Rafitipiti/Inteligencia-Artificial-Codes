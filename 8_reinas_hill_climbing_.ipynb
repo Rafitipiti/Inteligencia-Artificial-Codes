{
  "nbformat": 4,
  "nbformat_minor": 0,
  "metadata": {
    "colab": {
      "name": "8 reinas hill climbing .ipynb",
      "provenance": []
    },
    "kernelspec": {
      "name": "python3",
      "display_name": "Python 3"
    },
    "language_info": {
      "name": "python"
    }
  },
  "cells": [
    {
      "cell_type": "code",
      "metadata": {
        "colab": {
          "base_uri": "https://localhost:8080/"
        },
        "id": "fTfogDy6RUm2",
        "outputId": "b5335f10-53a8-415c-98a8-468dfed0b803"
      },
      "source": [
        "def checkcolumns(arr,pos):\n",
        "  cnterrores = 0\n",
        "  for i in range(len(arr)):\n",
        "    if i != pos and arr[i] == arr[pos]:\n",
        "      cnterrores+=1\n",
        "\n",
        "  aux = 0\n",
        "  for i in range(pos,len(arr)):\n",
        "    if i != pos and (arr[pos] == arr[i]-aux or arr[pos] == arr[i]+aux):\n",
        "      cnterrores+=1\n",
        "    aux+=1\n",
        "\n",
        "  aux = 0\n",
        "  for i in range(pos,-1,-1):\n",
        "    if i != pos and (arr[pos] == arr[i]-aux or arr[pos] == arr[i]+aux):\n",
        "      cnterrores+=1\n",
        "    aux+=1\n",
        "\n",
        "  return cnterrores\n",
        "\n",
        "def listaerrores(reinas):\n",
        "  lista = []\n",
        "  for i in range(len(reinas)):\n",
        "    lista.append(checkcolumns(reinas,i))\n",
        "  return lista\n",
        "\n",
        "def detallecolumna(ar,pos):\n",
        "  arr = ar.copy()\n",
        "  arregloerrores = []\n",
        "  for i in range(len(arr)):\n",
        "    arr[pos] = i\n",
        "    arregloerrores.append(checkcolumns(arr,pos))\n",
        "  return arregloerrores\n",
        "\n",
        "detallecolumna(reinas,3)"
      ],
      "execution_count": null,
      "outputs": [
        {
          "output_type": "execute_result",
          "data": {
            "text/plain": [
              "[3, 3, 2, 2, 2, 0, 3, 2]"
            ]
          },
          "metadata": {
            "tags": []
          },
          "execution_count": 104
        }
      ]
    },
    {
      "cell_type": "code",
      "metadata": {
        "colab": {
          "base_uri": "https://localhost:8080/"
        },
        "id": "xfatW4GNcK4w",
        "outputId": "1d556960-19f2-4574-d2d7-7a93a5932994"
      },
      "source": [
        "reinas = [3,4,7,5,2,0,4,6]\n",
        "iteraciones = 5\n",
        "print(\"Inicio\",reinas)\n",
        "while iteraciones:\n",
        "  iteraciones-=1\n",
        "  posaevaluar = []\n",
        "  liserrores = listaerrores(reinas)\n",
        "  for i in range(len(reinas)):\n",
        "     if liserrores[i] > 0:\n",
        "       posaevaluar.append(i) #obtengo posiciones que tienen errores\n",
        "\n",
        "  for i in posaevaluar:\n",
        "    newpos = detallecolumna(reinas,i)\n",
        "    low,pos = newpos[0],0\n",
        "    for j in range(1,len(newpos)):\n",
        "      if newpos[j] < low:\n",
        "        low,pos = newpos[j],j\n",
        "    reinas[i] = pos\n",
        "    liserrores = listaerrores(reinas)\n",
        "    print(i, reinas)\n",
        "    if not 1 in liserrores:\n",
        "      print(\"RESULTADO:\",reinas)\n",
        "      break\n",
        "      \n",
        "  \n"
      ],
      "execution_count": null,
      "outputs": [
        {
          "output_type": "stream",
          "text": [
            "Inicio [3, 4, 7, 5, 2, 0, 4, 6]\n",
            "0 [1, 4, 7, 5, 2, 0, 4, 6]\n",
            "1 [1, 1, 7, 5, 2, 0, 4, 6]\n",
            "4 [1, 1, 7, 5, 0, 0, 4, 6]\n",
            "5 [1, 1, 7, 5, 0, 2, 4, 6]\n",
            "6 [1, 1, 7, 5, 0, 2, 4, 6]\n",
            "0 [3, 1, 7, 5, 0, 2, 4, 6]\n",
            "RESULTADO: [3, 1, 7, 5, 0, 2, 4, 6]\n"
          ],
          "name": "stdout"
        }
      ]
    }
  ]
}