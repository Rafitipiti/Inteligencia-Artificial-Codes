{
  "nbformat": 4,
  "nbformat_minor": 0,
  "metadata": {
    "colab": {
      "name": "LCLifo ej 2.ipynb",
      "provenance": []
    },
    "kernelspec": {
      "name": "python3",
      "display_name": "Python 3"
    },
    "language_info": {
      "name": "python"
    }
  },
  "cells": [
    {
      "cell_type": "code",
      "metadata": {
        "id": "4LLjxV5P0wKd"
      },
      "source": [
        "n = 4\n",
        "B = (8,12,16,20)\n",
        "P = (4,8,12,16)\n",
        "M = 28"
      ],
      "execution_count": 2,
      "outputs": []
    },
    {
      "cell_type": "code",
      "metadata": {
        "colab": {
          "base_uri": "https://localhost:8080/",
          "height": 207
        },
        "id": "NZ-gv_0y15IP",
        "outputId": "96cc1089-2b83-46e4-c0ed-45124e131ee3"
      },
      "source": [
        "#NO RESUELTO -- INTENTO DE ADAPTACION\n",
        "\n",
        "import queue\n",
        "import math\n",
        "from collections import namedtuple\n",
        "import random\n",
        "c = -1\n",
        "lnv = []\n",
        "\n",
        "class Nodo:\n",
        "    def __init__(self, nivel, valor, peso, bound, c):\n",
        "         self.nivel = nivel\n",
        "         self.valor = valor\n",
        "         self.peso = peso\n",
        "         self.bound = bound\n",
        "         self.c = c\n",
        "\n",
        "def upp(u, k, n, v, w):\n",
        "    if u.peso > k:\n",
        "        return 0\n",
        "    else:\n",
        "        bound = u.valor\n",
        "        w1 = u.peso\n",
        "        j = u.nivel + 1\n",
        "        while j < n and w1 + w[j] <= k:\n",
        "            bound += v[j]\n",
        "            w1 += w[j]\n",
        "            j += 1\n",
        "            if j < n:\n",
        "              bound += (k - w1) * (v[j] / w[j])\n",
        "            return bound\n",
        "\n",
        "def knapsack(it,capacity):\n",
        "    item_count = len(it)\n",
        "    valor = [0]*item_count\n",
        "    peso = [0]*item_count\n",
        "    it = sorted(it, key=lambda k: k.valor/k.peso, reverse = True)\n",
        "    for i,item in enumerate(it, 0):\n",
        "        valor[i] = int(item.valor)\n",
        "        peso[i] = int(item.peso)\n",
        "    q = queue.Queue\n",
        "    r = Node(0, 0, 0, 0, [])\n",
        "    r.bound = upp(r, capacity, item_count, v, w)\n",
        "    q.put(r)\n",
        "    valor = 0\n",
        "    fijos = [0]*item_count\n",
        "    best = set()\n",
        "    while not q.empty():\n",
        "      c = q.get()\n",
        "      if c.bound > valor:\n",
        "        nivel = c.nivel+1\n",
        "      i = Node(c.valor + v[nivel], c.peso + w[nivel], nivel, 0.0, c.contains[:])\n",
        "      i.contains.append(nivel)\n",
        "      if i.peso <= capacity and i.valor > valor:\n",
        "        valor = i.valor\n",
        "        best |= set(i.contains)\n",
        "      i.bound = upper_bound(i, capacity, item_count, v, w)\n",
        "      if i.bound > valor:\n",
        "        q.put(i)\n",
        "      l = Node(c.valor, c.peso, nivel, 0.0, c.contains[:])\n",
        "      l.contains.append(nivel)\n",
        "      l.bound = upper_bound(l, capacity, item_count, v, w)\n",
        "      if l.bound > valor:\n",
        "        q.put(l)\n",
        "    for b in best:\n",
        "      fijos[b] = 1\n",
        "    valor = sum([i*j for (i,j) in zip(v,fijos)])\n",
        "    return str(valor)\n",
        "\n",
        "knapsack()"
      ],
      "execution_count": 20,
      "outputs": [
        {
          "output_type": "error",
          "ename": "TypeError",
          "evalue": "ignored",
          "traceback": [
            "\u001b[0;31m---------------------------------------------------------------------------\u001b[0m",
            "\u001b[0;31mTypeError\u001b[0m                                 Traceback (most recent call last)",
            "\u001b[0;32m<ipython-input-20-1eb3a88adb4d>\u001b[0m in \u001b[0;36m<module>\u001b[0;34m()\u001b[0m\n\u001b[1;32m     68\u001b[0m     \u001b[0;32mreturn\u001b[0m \u001b[0mstr\u001b[0m\u001b[0;34m(\u001b[0m\u001b[0mvalor\u001b[0m\u001b[0;34m)\u001b[0m\u001b[0;34m\u001b[0m\u001b[0;34m\u001b[0m\u001b[0m\n\u001b[1;32m     69\u001b[0m \u001b[0;34m\u001b[0m\u001b[0m\n\u001b[0;32m---> 70\u001b[0;31m \u001b[0mknapsack\u001b[0m\u001b[0;34m(\u001b[0m\u001b[0;34m)\u001b[0m\u001b[0;34m\u001b[0m\u001b[0;34m\u001b[0m\u001b[0m\n\u001b[0m",
            "\u001b[0;31mTypeError\u001b[0m: knapsack() missing 2 required positional arguments: 'it' and 'capacity'"
          ]
        }
      ]
    }
  ]
}