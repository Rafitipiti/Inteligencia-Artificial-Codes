{
  "nbformat": 4,
  "nbformat_minor": 0,
  "metadata": {
    "colab": {
      "name": "Algoritmo genético 2.ipynb",
      "provenance": []
    },
    "kernelspec": {
      "name": "python3",
      "display_name": "Python 3"
    },
    "language_info": {
      "name": "python"
    }
  },
  "cells": [
    {
      "cell_type": "code",
      "metadata": {
        "id": "4ASMrGB_1UwM"
      },
      "source": [
        "import math\n",
        "import numpy\n",
        "import random\n",
        "from numpy.random import seed\n",
        "from numpy.random import randint\n",
        "\n",
        "pinicial = ([0,1,0,1,0],\n",
        "            [1,0,1,0,1],\n",
        "            [0,0,1,1,0],\n",
        "            [0,1,1,0,0],\n",
        "            [0,0,1,1,1],\n",
        "            [1,1,0,0,1])\n",
        "N = 5"
      ],
      "execution_count": null,
      "outputs": []
    },
    {
      "cell_type": "code",
      "metadata": {
        "id": "AOHTBJLY1nRV"
      },
      "source": [
        "def decimal(x):\n",
        "  num = 0\n",
        "  aux = 0\n",
        "  for i in range(len(x)-1,-1,-1):\n",
        "    if x[i] == 1:\n",
        "      num += pow(2,aux)\n",
        "    aux+=1\n",
        "  return num\n",
        "\n",
        "#Función de Idoneidad\n",
        "def Idoneidad(lis):\n",
        "  arr = []\n",
        "  for i in lis:\n",
        "    d = decimal(i)\n",
        "    arr.append(pow(d,3)-21*pow(d,2)-3*d+150)\n",
        "  return arr\n"
      ],
      "execution_count": null,
      "outputs": []
    },
    {
      "cell_type": "code",
      "metadata": {
        "colab": {
          "base_uri": "https://localhost:8080/"
        },
        "id": "hAi4FoC01tF2",
        "outputId": "b2e5f8a6-9cde-4dac-8bbb-9c0da336bcf8"
      },
      "source": [
        "vals = Idoneidad(pinicial)\n",
        "print(\"\\nFunción Idoneidad: \", vals)"
      ],
      "execution_count": null,
      "outputs": [
        {
          "output_type": "stream",
          "text": [
            "\n",
            "Función Idoneidad:  [-980, 87, -408, -1182, -557, 2575]\n"
          ],
          "name": "stdout"
        }
      ]
    },
    {
      "cell_type": "code",
      "metadata": {
        "id": "LnJ8X8eTA3GA"
      },
      "source": [
        "def Parejas(n):\n",
        "    ale = random.sample(range(int(n/2),n),int(n/2))\n",
        "    par = {}\n",
        "    for i in range(int(n/2)):\n",
        "        par[i] = ale[i]\n",
        "        par[ale[i]] = i\n",
        "    return par"
      ],
      "execution_count": null,
      "outputs": []
    },
    {
      "cell_type": "code",
      "metadata": {
        "colab": {
          "base_uri": "https://localhost:8080/"
        },
        "id": "LqLUZ0PEA5Mf",
        "outputId": "e83c01a8-0808-4852-d55f-441bf149ddb3"
      },
      "source": [
        "#PAREJAS + CRUCE\n",
        "parejas = Parejas(len(pinicial))\n",
        "n1 = 0\n",
        "nfinal = [None for i in range(len(pinicial))]\n",
        "for i in range(len(parejas)):\n",
        "  a = parejas[i]\n",
        "  if i%2==0:\n",
        "    n1 = randint(1, N-2) #punto de cruce\n",
        "  if i%2==1:\n",
        "    Hijo1 = []\n",
        "    Hijo2 = []\n",
        "    Hijo1.extend(pinicial[parejas[i]][0:n1])\n",
        "    Hijo1.extend(pinicial[parejas[i-1]][n1:])\n",
        "    Hijo2.extend(pinicial[parejas[i-1]][0:n1])\n",
        "    Hijo2.extend(pinicial[parejas[i]][n1:])\n",
        "    nfinal[i-1]=Hijo1\n",
        "    nfinal[i]=Hijo2\n",
        "for i in nfinal:\n",
        "  print(i)"
      ],
      "execution_count": null,
      "outputs": [
        {
          "output_type": "stream",
          "text": [
            "[0, 0, 0, 0, 1]\n",
            "[1, 1, 1, 1, 1]\n",
            "[0, 0, 1, 0, 0]\n",
            "[0, 1, 1, 1, 0]\n",
            "[0, 0, 1, 0, 1]\n",
            "[1, 1, 0, 1, 0]\n"
          ],
          "name": "stdout"
        }
      ]
    },
    {
      "cell_type": "code",
      "metadata": {
        "colab": {
          "base_uri": "https://localhost:8080/"
        },
        "id": "_CjMOIbsBHW_",
        "outputId": "67e79b80-47e1-4958-bd1f-220037fc4501"
      },
      "source": [
        "for i in range(len(nfinal)):\n",
        "  prob = random.randint(0,1)\n",
        "  if prob:\n",
        "    num = random.randint(0,1)\n",
        "    pos = random.randint(0,N-1)\n",
        "    nfinal[i][pos] = num\n",
        "\n",
        "for i in nfinal:\n",
        "  print(i)\n",
        "\n",
        "vals = Idoneidad(nfinal)\n",
        "print(vals)"
      ],
      "execution_count": null,
      "outputs": [
        {
          "output_type": "stream",
          "text": [
            "[0, 0, 0, 0, 0]\n",
            "[1, 1, 1, 1, 1]\n",
            "[0, 0, 1, 0, 0]\n",
            "[0, 0, 1, 1, 0]\n",
            "[0, 0, 1, 0, 1]\n",
            "[1, 1, 0, 1, 0]\n",
            "[150, 9667, -134, -408, -265, 3452]\n"
          ],
          "name": "stdout"
        }
      ]
    }
  ]
}