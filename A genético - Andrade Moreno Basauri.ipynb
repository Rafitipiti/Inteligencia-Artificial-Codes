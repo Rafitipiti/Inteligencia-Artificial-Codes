{
  "nbformat": 4,
  "nbformat_minor": 0,
  "metadata": {
    "colab": {
      "name": "Algoritmo genético IA.ipynb",
      "provenance": [],
      "collapsed_sections": []
    },
    "kernelspec": {
      "name": "python3",
      "display_name": "Python 3"
    },
    "language_info": {
      "name": "python"
    }
  },
  "cells": [
    {
      "cell_type": "markdown",
      "metadata": {
        "id": "YEvDbYT7S6Ps"
      },
      "source": [
        "# Algoritmos Genéticos"
      ]
    },
    {
      "cell_type": "markdown",
      "metadata": {
        "id": "yTnhL1oeTSUC"
      },
      "source": [
        "## Aplicación: Problema de las 8 reinas"
      ]
    },
    {
      "cell_type": "markdown",
      "metadata": {
        "id": "GP18G_wzUkUr"
      },
      "source": [
        "Usando un tablero regular de ajedrez $8 \\times 8$, el problema consiste en colocar $8$ reinas en el tablero de manera que ninguna ataque a las demás."
      ]
    },
    {
      "cell_type": "markdown",
      "metadata": {
        "id": "_rVxo6mWTXXk"
      },
      "source": [
        "### Representación"
      ]
    },
    {
      "cell_type": "code",
      "metadata": {
        "id": "Phz9gLmO3dwh"
      },
      "source": [
        "import numpy\n",
        "import random\n",
        "from numpy.random import seed\n",
        "from numpy.random import randint"
      ],
      "execution_count": null,
      "outputs": []
    },
    {
      "cell_type": "markdown",
      "metadata": {
        "id": "zI-sEfSSTZWr"
      },
      "source": [
        "Dado el tablero regular $8 \\times 8$, en una cadena de 8 dígitos se representan los estados de las 8 reinas. \n",
        "Por ejemplo, si guardamos estas posiciones en un arreglo $pos$.\n",
        "> $pos[i]$: Posición (columna) de la reina $i$, ubicada en la fila $i$."
      ]
    },
    {
      "cell_type": "markdown",
      "metadata": {
        "id": "ePc3ngF3YXzE"
      },
      "source": [
        "Los algoritmos genéticos, análogos al proceso de evolución y selección natural, necesitan una **población inicial de estados**. En este caso, inicializamos 4 tableros."
      ]
    },
    {
      "cell_type": "code",
      "metadata": {
        "id": "rDFZjPLJQ9ok"
      },
      "source": [
        "#Población Inicial\n",
        "pinicial = ([2,4,7,4,8,5,5,2],[3,2,7,5,2,4,1,1],[2,4,4,1,5,1,2,4],[3,2,5,4,3,2,1,3])\n",
        "N = 8"
      ],
      "execution_count": null,
      "outputs": []
    },
    {
      "cell_type": "markdown",
      "metadata": {
        "id": "Tf_QguKGUJzJ"
      },
      "source": [
        "### Función de Idoneidad"
      ]
    },
    {
      "cell_type": "markdown",
      "metadata": {
        "id": "fXkNhvGkYvzq"
      },
      "source": [
        "En un algoritmo genético, por cada iteración, se busca elegir $n$ individuos de la población actual. Entonces, la función de idoneidad mide la capacidad de cada individuo para elegir a los 'más aptos'."
      ]
    },
    {
      "cell_type": "markdown",
      "metadata": {
        "id": "MYwS7A3PZssm"
      },
      "source": [
        "Definimos $Idoneidad$:\n",
        "> **Entrada:**\n",
        "> * $lis$: La lista 'individuo', un arreglo de $t$ elementos (regularmente $8$), que representa la posición de las $t$ reinas en el tablero $t \\times t$.\n",
        "\n",
        "La función determina cuántos pares de reinas obedecen las condiciones, es decir, no se atacan entre ellas. \n",
        "\n",
        "Dado que se asume una entrada de $8$ reinas, el resultado **óptimo** es: \n",
        "> $C_{2}^8 = \\frac{8!}{2!(6!)} = \\frac{8 \\times 7}{2} = \\frac{56}{2} = 28$\n",
        ">\n",
        "> Es decir, todos los pares posibles del conjunto de 8 reinas posicionadas en el tablero.\n",
        "\n",
        "Internamente la función inicializa:\n",
        "* $valores$: arreglo de $t$ elementos, análogo a las reinas. Representa el número de reinas que no son amenazadas por la pieza.\n",
        "* $suma$: número de pares de reinas que no son amenazadas en todo el tablero.\n",
        "\n",
        "Ambas empiezan con los valores óptimos. \n",
        "- Así, $valores[i] = t-1$; es decir, todas las reinas excepto la reina $i$ están a salvo de esta.\n",
        "- $suma = 56$, por el análisis combinatorio previo de pares.\n",
        "\n",
        "Se analiza cada reina contra las demás, bajando el valor de $valores$ y $suma$ por cada vez que las reinas se amenazan.\n",
        "\n",
        "> **Retorno:**\n",
        "> * Arreglo $valores$\n",
        "> * $\\frac{suma}{2}$, el resultado de la función idónea."
      ]
    },
    {
      "cell_type": "code",
      "metadata": {
        "id": "jA_Zi971XGoJ"
      },
      "source": [
        "#Función de Idoneidad\n",
        "def Idoneidad(lis):\n",
        "  t = len(lis)\n",
        "  valores = [t-1 for i in range(t)]\n",
        "  suma = 7*t\n",
        "  for i in range(0,t):\n",
        "    for j in range(0,t):\n",
        "      if i < j:\n",
        "        if lis[i] == lis[j] or lis[i] - (j-i) == lis[j] or lis[i] + (j-i) == lis[j]:\n",
        "          #Si (Misma columna?) or (Diagonal a la izquierda) or (Diagonal a la derecha)\n",
        "          valores[i] -= 1\n",
        "          suma -= 1\n",
        "      if i > j:\n",
        "        if lis[i] == lis[j] or lis[i] - (i-j) == lis[j] or lis[i] + (i-j) == lis[j]:\n",
        "          valores[i] -= 1\n",
        "          suma -= 1 \n",
        "  return valores,int(suma/2)"
      ],
      "execution_count": null,
      "outputs": []
    },
    {
      "cell_type": "code",
      "metadata": {
        "colab": {
          "base_uri": "https://localhost:8080/"
        },
        "id": "Q37fOwn_kTYs",
        "outputId": "03e28269-4d97-4299-c56d-5e4633236efe"
      },
      "source": [
        "fido = [None for i in range(len(pinicial))]\n",
        "for i in range(len(pinicial)):\n",
        "  vals, fido[i] = Idoneidad(pinicial[i])\n",
        "  print(vals)\n",
        "print(\"\\nFunción Idoneidad: \", fido)"
      ],
      "execution_count": null,
      "outputs": [
        {
          "output_type": "stream",
          "text": [
            "[6, 6, 6, 6, 7, 6, 6, 5]\n",
            "[6, 5, 6, 6, 6, 6, 6, 5]\n",
            "[5, 5, 3, 6, 7, 4, 5, 5]\n",
            "[3, 4, 2, 2, 1, 2, 3, 5]\n",
            "\n",
            "Función Idoneidad:  [24, 23, 20, 11]\n"
          ],
          "name": "stdout"
        }
      ]
    },
    {
      "cell_type": "markdown",
      "metadata": {
        "id": "mSFuxB6-F3J5"
      },
      "source": [
        "### Selección:"
      ]
    },
    {
      "cell_type": "markdown",
      "metadata": {
        "id": "m2YelFLIaACo"
      },
      "source": [
        "Debemos de garantizar que los mejores individuos\n",
        "tienen una mayor posibilidad de ser padres\n",
        "(reproducirse) frente a los individuos menos\n",
        "buenos.\n",
        "Debemos de ser cuidadosos para dar una\n",
        "oportunidad de reproducirse a los individuos menos\n",
        "buenos. Éstos pueden incluir material genético útil\n",
        "en el proceso de reproducción.\n",
        "Esta idea nos define la presión selectiva que\n",
        "determina en qué grado la reproducción está\n",
        "dirigida por los mejores individuos.\n",
        "\n",
        "Para cada padre a seleccionar:\n",
        "\n",
        "*   Escoger aleatoriamente k individuos, con reemplazamiento\n",
        "*   Seleccionar el mejor de ellos\n",
        "\n",
        "\n",
        "k se denomina tamaño del torneo. A mayor k, mayor presión\n",
        "selectiva y viceversa"
      ]
    },
    {
      "cell_type": "code",
      "metadata": {
        "colab": {
          "base_uri": "https://localhost:8080/"
        },
        "id": "emkbwdLnjtJr",
        "outputId": "dfc8c63e-18f6-438b-ec3d-8c89482551f5"
      },
      "source": [
        "#Probabilidad de selección\n",
        "pselec = [None for i in range(len(pinicial))]\n",
        "for i in range(len(fido)):\n",
        "  pselec[i] = (round(100*fido[i]/sum(fido)))\n",
        "  print(pselec[i])"
      ],
      "execution_count": null,
      "outputs": [
        {
          "output_type": "stream",
          "text": [
            "31\n",
            "29\n",
            "26\n",
            "14\n"
          ],
          "name": "stdout"
        }
      ]
    },
    {
      "cell_type": "markdown",
      "metadata": {
        "id": "kJX9VbVkamdW"
      },
      "source": [
        "La combinacion de parejas se realiza mediante operadores de cruce\n",
        "\n",
        "Podríamos tener uno o más operadores de cruce para\n",
        "nuestra representación.\n",
        "Algunos aspectos importantes a tener en cuenta son:\n",
        "\n",
        "*   Los hijos deberían heredar algunas características de cada\n",
        "padre. \n",
        "*   Se debe diseñar de acuerdo a la representación.\n",
        "*   Se utiliza con una probabilidad alta de actuación sobre cada\n",
        "pareja de padres a cruzar, si no actua los\n",
        "padres son los descendientes del proceso de recombinación\n",
        "de la pareja.\n"
      ]
    },
    {
      "cell_type": "code",
      "metadata": {
        "id": "VJyRoEPN3Qou"
      },
      "source": [
        "#Parejas aleatorias\n",
        "def Parejas(n):\n",
        "    ale = random.sample(range(int(n/2),n),int(n/2))\n",
        "    par = {}\n",
        "    for i in range(int(n/2)):\n",
        "        par[i] = ale[i]\n",
        "        par[ale[i]] = i\n",
        "    return par"
      ],
      "execution_count": null,
      "outputs": []
    },
    {
      "cell_type": "code",
      "metadata": {
        "colab": {
          "base_uri": "https://localhost:8080/"
        },
        "id": "jTNSklMM5xUK",
        "outputId": "822bfcaf-12fe-4825-8562-f11948d1257f"
      },
      "source": [
        "#PAREJAS + CRUCE\n",
        "parejas = Parejas(len(pinicial))\n",
        "n1 = 0\n",
        "nfinal = [None for i in range(len(pinicial))]\n",
        "for i in range(len(parejas)):\n",
        "  a = parejas[i]\n",
        "  if i%2==0:\n",
        "    n1 = randint(1, N-2)\n",
        "  if i%2==1:\n",
        "    Hijo1 = []\n",
        "    Hijo2 = []\n",
        "    Hijo1.extend(pinicial[parejas[i]][0:n1])\n",
        "    Hijo1.extend(pinicial[parejas[i-1]][n1:])\n",
        "    Hijo2.extend(pinicial[parejas[i-1]][0:n1])\n",
        "    Hijo2.extend(pinicial[parejas[i]][n1:])\n",
        "    nfinal[i-1]=Hijo1\n",
        "    nfinal[i]=Hijo2\n",
        "for i in nfinal:\n",
        "  print(i)"
      ],
      "execution_count": null,
      "outputs": [
        {
          "output_type": "stream",
          "text": [
            "[3, 2, 4, 1, 5, 1, 2, 4]\n",
            "[2, 4, 5, 4, 3, 2, 1, 3]\n",
            "[3, 2, 7, 4, 8, 5, 5, 2]\n",
            "[2, 4, 7, 5, 2, 4, 1, 1]\n"
          ],
          "name": "stdout"
        }
      ]
    },
    {
      "cell_type": "markdown",
      "metadata": {
        "id": "67MdI1tTbZbH"
      },
      "source": [
        "Podemos tener uno o más operadores de mutación para\n",
        "nuestra representación.\n",
        "Algunos aspectos importantes a tener en cuenta son:\n",
        "\n",
        "*   Debe permitir alcanzar cualquier parte del espacio de búsqueda.\n",
        "*   El tamaño de la mutación debe ser controlado.\n",
        "*   Se aplica con una probabilidad muy baja de actuación sobre cada\n",
        "descendiente obtenido tras aplicar el operador de cruce\n",
        "(incluidos los descendientes que coinciden con los padres porque\n",
        "el operador de cruce no actúa)."
      ]
    },
    {
      "cell_type": "code",
      "metadata": {
        "colab": {
          "base_uri": "https://localhost:8080/"
        },
        "id": "oXAxFp_15ZZU",
        "outputId": "36f54a99-e944-4b21-c2ac-7d438d4172fd"
      },
      "source": [
        "# MUTACIÓN\n",
        "for i in range(len(nfinal)):\n",
        "  prob = random.randint(0,1)\n",
        "  if prob:\n",
        "    num = random.randint(0,9)\n",
        "    pos = random.randint(0,N-1)\n",
        "    nfinal[i][pos] = num\n",
        "\n",
        "for i in nfinal:\n",
        "  print(i)"
      ],
      "execution_count": null,
      "outputs": [
        {
          "output_type": "stream",
          "text": [
            "[3, 2, 4, 1, 2, 1, 2, 4]\n",
            "[2, 4, 5, 8, 3, 2, 1, 3]\n",
            "[3, 1, 7, 4, 8, 5, 5, 2]\n",
            "[2, 4, 7, 5, 2, 4, 1, 1]\n"
          ],
          "name": "stdout"
        }
      ]
    },
    {
      "cell_type": "markdown",
      "metadata": {
        "id": "1sEHoranVCWy"
      },
      "source": [
        "## Bibliografía:"
      ]
    },
    {
      "cell_type": "markdown",
      "metadata": {
        "id": "R2IUwE9mVE9U"
      },
      "source": [
        "1. Berry, N. (2012) . *Eight Queens Problem*. DataGenetics. \n",
        "Recuperado de: https://www.datagenetics.com/blog/august42012/\n",
        "\n",
        "2. \n",
        "SCI2S. (2013). BIOINFORMÁTICA TEMA 6: ALGORITMOS GENÉTICOS I: CONCEPTOS BÁSICOS. Recuperado de: https://sci2s.ugr.es/sites/default/files/files/Teaching/GraduatesCourses/Bioinformatica/Tema%2006%20-%20AGs%20I.pdf"
      ]
    }
  ]
}